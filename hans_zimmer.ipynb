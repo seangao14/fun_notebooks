{
 "metadata": {
  "language_info": {
   "codemirror_mode": {
    "name": "ipython",
    "version": 3
   },
   "file_extension": ".py",
   "mimetype": "text/x-python",
   "name": "python",
   "nbconvert_exporter": "python",
   "pygments_lexer": "ipython3",
   "version": "3.8.2-final"
  },
  "orig_nbformat": 2,
  "kernelspec": {
   "name": "python3",
   "display_name": "Python 3",
   "language": "python"
  }
 },
 "nbformat": 4,
 "nbformat_minor": 2,
 "cells": [
  {
   "source": [
    "coggers is my favorite song from interstellar, let's see what it looks like"
   ],
   "cell_type": "markdown",
   "metadata": {}
  },
  {
   "cell_type": "code",
   "execution_count": 1,
   "metadata": {},
   "outputs": [],
   "source": [
    "import scipy.io.wavfile as wav\n",
    "import matplotlib.pyplot as plt\n",
    "import numpy as np\n",
    "import librosa as libr\n",
    "\n",
    "from tqdm import tqdm\n",
    "from sklearn.preprocessing import MinMaxScaler\n",
    "\n",
    "import torch\n",
    "import torch.nn as nn\n",
    "import torch.nn.functional as F\n",
    "import torch.optim as optim\n",
    "from torch.utils.data import DataLoader, TensorDataset"
   ]
  },
  {
   "cell_type": "code",
   "execution_count": 2,
   "metadata": {},
   "outputs": [],
   "source": [
    "coggers, sample_rate = libr.load('data/hans_zimmer/sample.wav', sr=8000, mono=False)\n",
    "# coggers, sample_rate = libr.load('data/hans_zimmer/coggers.wav', sr=8000, mono=False)"
   ]
  },
  {
   "cell_type": "code",
   "execution_count": 3,
   "metadata": {},
   "outputs": [],
   "source": [
    "# split the data into two tracks for separate training\n",
    "\n",
    "a = coggers[0]\n",
    "b = coggers[1]"
   ]
  },
  {
   "cell_type": "code",
   "execution_count": 4,
   "metadata": {},
   "outputs": [],
   "source": [
    "def take_sample():\n",
    "    start = 155\n",
    "    end = 165\n",
    "\n",
    "    a = a[start*sample_rate : end*sample_rate]\n",
    "    b = b[start*sample_rate : end*sample_rate]\n",
    "\n",
    "    sample = np.stack((a,b)).T\n",
    "\n",
    "    wav.write('data/hans_zimmer/sample.wav', sample_rate, sample)\n",
    "\n",
    "# take_sample()"
   ]
  },
  {
   "cell_type": "code",
   "execution_count": 5,
   "metadata": {},
   "outputs": [
    {
     "output_type": "stream",
     "name": "stdout",
     "text": [
      "4000\n"
     ]
    }
   ],
   "source": [
    "# HYPERPARAMETERS\n",
    "SEQ_LEN = 0.5 # this is in seconds\n",
    "SEQ_LEN = int(SEQ_LEN * sample_rate)\n",
    "print(SEQ_LEN)\n",
    "\n",
    "# gonna list some powers of 2 here for reference\n",
    "# 1024, 2048, 4096, 8192, 16384, 32768, 65536, 131072, 262144, 524288, 1048576, 2097152\n",
    "HIDDEN_DIM = 2048\n",
    "N_LAYERS = 4\n",
    "\n",
    "OUT_DIM = 1\n",
    "\n",
    "EPOCHS = 1\n",
    "LR = 0.0001"
   ]
  },
  {
   "cell_type": "code",
   "execution_count": 6,
   "metadata": {},
   "outputs": [],
   "source": [
    "scaler_a = MinMaxScaler(feature_range=(-1,1))\n",
    "scaler_b = MinMaxScaler(feature_range=(-1,1))\n",
    "\n",
    "a = scaler_a.fit_transform(a.reshape(-1,1))\n",
    "b = scaler_b.fit_transform(b.reshape(-1,1))"
   ]
  },
  {
   "cell_type": "code",
   "execution_count": 7,
   "metadata": {},
   "outputs": [],
   "source": [
    "a = torch.tensor(a).cuda().float()\n",
    "b = torch.tensor(b).cuda().float()"
   ]
  },
  {
   "cell_type": "code",
   "execution_count": 8,
   "metadata": {},
   "outputs": [],
   "source": [
    "class LSTM(nn.Module):\n",
    "    def __init__(self, in_dim, hidden_dim, n_layers, out_dim):\n",
    "        super().__init__()\n",
    "        self.hidden_dim = hidden_dim\n",
    "        self.n_layers = n_layers\n",
    "\n",
    "        self.lstm = nn.LSTM(in_dim, hidden_dim, n_layers, batch_first=True)\n",
    "        self.fc1 = nn.Linear(hidden_dim, out_dim)\n",
    "    \n",
    "    def forward(self, x):\n",
    "        x, h = self.lstm(x.view(len(x),1,-1))\n",
    "        x = self.fc1(x)\n",
    "        return x"
   ]
  },
  {
   "cell_type": "code",
   "execution_count": 9,
   "metadata": {},
   "outputs": [],
   "source": [
    "model_a = LSTM(SEQ_LEN, HIDDEN_DIM, N_LAYERS, OUT_DIM).cuda()\n",
    "model_b = LSTM(SEQ_LEN, HIDDEN_DIM, N_LAYERS, OUT_DIM).cuda()"
   ]
  },
  {
   "cell_type": "code",
   "execution_count": 10,
   "metadata": {},
   "outputs": [],
   "source": [
    "def train(n='cp'):\n",
    "    losses_a = []\n",
    "    losses_b = []\n",
    "\n",
    "    optimizer_a = optim.Adam(model_a.parameters(), lr=LR)\n",
    "    optimizer_b = optim.Adam(model_b.parameters(), lr=LR)\n",
    "\n",
    "    loss_fn_a = nn.MSELoss()\n",
    "    loss_fn_b = nn.MSELoss()\n",
    "\n",
    "    for epoch in range(EPOCHS):\n",
    "        for i in tqdm(  range(  int((len(a)-SEQ_LEN)/OUT_DIM)  )  ):\n",
    "            Xa = a[i*OUT_DIM : i*OUT_DIM + SEQ_LEN]\n",
    "            Ya = a[i*OUT_DIM+SEQ_LEN : (i+1)*OUT_DIM + SEQ_LEN]\n",
    "\n",
    "            Xa = Xa.view(-1, SEQ_LEN)\n",
    "\n",
    "            out_a = model_a(Xa)\n",
    "            loss_a = loss_fn_a(out_a, Ya)\n",
    "\n",
    "            model_a.zero_grad()\n",
    "            loss_a.backward()\n",
    "            optimizer_a.step()\n",
    "            losses_a.append(loss_a.item())\n",
    "\n",
    "            \n",
    "            Xb = b[i:i+SEQ_LEN]\n",
    "            Yb = b[i+SEQ_LEN]\n",
    "\n",
    "            Xb = Xb.view(-1, SEQ_LEN)\n",
    "\n",
    "\n",
    "            out_b = model_b(Xb)\n",
    "            loss_b = loss_fn_b(out_b, Yb)\n",
    "\n",
    "            model_b.zero_grad()\n",
    "            loss_b.backward()\n",
    "            optimizer_b.step()\n",
    "            losses_b.append(loss_b)\n",
    "            \n",
    "            if i == 100:\n",
    "                break\n",
    "\n",
    "            if i%1000==0:\n",
    "                torch.save(model_a.state_dict(), f'models/hans_zimmer/checkpoints/{n}_a.pt')\n",
    "                torch.save(model_b.state_dict(), f'models/hans_zimmer/checkpoints/{n}_b.pt')\n",
    "    return losses_a, losses_b"
   ]
  },
  {
   "cell_type": "code",
   "execution_count": 11,
   "metadata": {},
   "outputs": [],
   "source": [
    "def load(n):\n",
    "    model_a.load_state_dict(torch.load(f'models/hans_zimmer/{n}_a.pt'))\n",
    "    model_b.load_state_dict(torch.load(f'models/hans_zimmer/{n}_b.pt'))\n",
    "def save(n):\n",
    "    torch.save(model_a.state_dict(), f'models/hans_zimmer/{n}_a.pt')\n",
    "    torch.save(model_b.state_dict(), f'models/hans_zimmer/{n}_b.pt')"
   ]
  },
  {
   "cell_type": "code",
   "execution_count": 12,
   "metadata": {},
   "outputs": [
    {
     "output_type": "stream",
     "name": "stderr",
     "text": [
      "  0%|          | 100/76000 [00:14<3:06:04,  6.80it/s]\n"
     ]
    }
   ],
   "source": [
    "la, lb = train('ten')"
   ]
  },
  {
   "cell_type": "code",
   "execution_count": 13,
   "metadata": {},
   "outputs": [
    {
     "output_type": "execute_result",
     "data": {
      "text/plain": [
       "[<matplotlib.lines.Line2D at 0x17314562b50>]"
      ]
     },
     "metadata": {},
     "execution_count": 13
    },
    {
     "output_type": "display_data",
     "data": {
      "text/plain": "<Figure size 432x288 with 1 Axes>",
      "image/svg+xml": "<?xml version=\"1.0\" encoding=\"utf-8\" standalone=\"no\"?>\r\n<!DOCTYPE svg PUBLIC \"-//W3C//DTD SVG 1.1//EN\"\r\n  \"http://www.w3.org/Graphics/SVG/1.1/DTD/svg11.dtd\">\r\n<!-- Created with matplotlib (https://matplotlib.org/) -->\r\n<svg height=\"250.595044pt\" version=\"1.1\" viewBox=\"0 0 378.465625 250.595044\" width=\"378.465625pt\" xmlns=\"http://www.w3.org/2000/svg\" xmlns:xlink=\"http://www.w3.org/1999/xlink\">\r\n <metadata>\r\n  <rdf:RDF xmlns:cc=\"http://creativecommons.org/ns#\" xmlns:dc=\"http://purl.org/dc/elements/1.1/\" xmlns:rdf=\"http://www.w3.org/1999/02/22-rdf-syntax-ns#\">\r\n   <cc:Work>\r\n    <dc:type rdf:resource=\"http://purl.org/dc/dcmitype/StillImage\"/>\r\n    <dc:date>2020-12-11T02:43:18.987181</dc:date>\r\n    <dc:format>image/svg+xml</dc:format>\r\n    <dc:creator>\r\n     <cc:Agent>\r\n      <dc:title>Matplotlib v3.3.1, https://matplotlib.org/</dc:title>\r\n     </cc:Agent>\r\n    </dc:creator>\r\n   </cc:Work>\r\n  </rdf:RDF>\r\n </metadata>\r\n <defs>\r\n  <style type=\"text/css\">*{stroke-linecap:butt;stroke-linejoin:round;}</style>\r\n </defs>\r\n <g id=\"figure_1\">\r\n  <g id=\"patch_1\">\r\n   <path d=\"M 0 250.595044 \r\nL 378.465625 250.595044 \r\nL 378.465625 0 \r\nL 0 0 \r\nz\r\n\" style=\"fill:none;\"/>\r\n  </g>\r\n  <g id=\"axes_1\">\r\n   <g id=\"patch_2\">\r\n    <path d=\"M 36.465625 226.716919 \r\nL 371.265625 226.716919 \r\nL 371.265625 9.276919 \r\nL 36.465625 9.276919 \r\nz\r\n\" style=\"fill:#ffffff;\"/>\r\n   </g>\r\n   <g id=\"matplotlib.axis_1\">\r\n    <g id=\"xtick_1\">\r\n     <g id=\"line2d_1\">\r\n      <defs>\r\n       <path d=\"M 0 0 \r\nL 0 3.5 \r\n\" id=\"mcd80bb41e6\" style=\"stroke:#000000;stroke-width:0.8;\"/>\r\n      </defs>\r\n      <g>\r\n       <use style=\"stroke:#000000;stroke-width:0.8;\" x=\"51.683807\" xlink:href=\"#mcd80bb41e6\" y=\"226.716919\"/>\r\n      </g>\r\n     </g>\r\n     <g id=\"text_1\">\r\n      <!-- 0 -->\r\n      <g transform=\"translate(48.502557 241.315356)scale(0.1 -0.1)\">\r\n       <defs>\r\n        <path d=\"M 31.78125 66.40625 \r\nQ 24.171875 66.40625 20.328125 58.90625 \r\nQ 16.5 51.421875 16.5 36.375 \r\nQ 16.5 21.390625 20.328125 13.890625 \r\nQ 24.171875 6.390625 31.78125 6.390625 \r\nQ 39.453125 6.390625 43.28125 13.890625 \r\nQ 47.125 21.390625 47.125 36.375 \r\nQ 47.125 51.421875 43.28125 58.90625 \r\nQ 39.453125 66.40625 31.78125 66.40625 \r\nz\r\nM 31.78125 74.21875 \r\nQ 44.046875 74.21875 50.515625 64.515625 \r\nQ 56.984375 54.828125 56.984375 36.375 \r\nQ 56.984375 17.96875 50.515625 8.265625 \r\nQ 44.046875 -1.421875 31.78125 -1.421875 \r\nQ 19.53125 -1.421875 13.0625 8.265625 \r\nQ 6.59375 17.96875 6.59375 36.375 \r\nQ 6.59375 54.828125 13.0625 64.515625 \r\nQ 19.53125 74.21875 31.78125 74.21875 \r\nz\r\n\" id=\"DejaVuSans-48\"/>\r\n       </defs>\r\n       <use xlink:href=\"#DejaVuSans-48\"/>\r\n      </g>\r\n     </g>\r\n    </g>\r\n    <g id=\"xtick_2\">\r\n     <g id=\"line2d_2\">\r\n      <g>\r\n       <use style=\"stroke:#000000;stroke-width:0.8;\" x=\"112.556534\" xlink:href=\"#mcd80bb41e6\" y=\"226.716919\"/>\r\n      </g>\r\n     </g>\r\n     <g id=\"text_2\">\r\n      <!-- 20 -->\r\n      <g transform=\"translate(106.194034 241.315356)scale(0.1 -0.1)\">\r\n       <defs>\r\n        <path d=\"M 19.1875 8.296875 \r\nL 53.609375 8.296875 \r\nL 53.609375 0 \r\nL 7.328125 0 \r\nL 7.328125 8.296875 \r\nQ 12.9375 14.109375 22.625 23.890625 \r\nQ 32.328125 33.6875 34.8125 36.53125 \r\nQ 39.546875 41.84375 41.421875 45.53125 \r\nQ 43.3125 49.21875 43.3125 52.78125 \r\nQ 43.3125 58.59375 39.234375 62.25 \r\nQ 35.15625 65.921875 28.609375 65.921875 \r\nQ 23.96875 65.921875 18.8125 64.3125 \r\nQ 13.671875 62.703125 7.8125 59.421875 \r\nL 7.8125 69.390625 \r\nQ 13.765625 71.78125 18.9375 73 \r\nQ 24.125 74.21875 28.421875 74.21875 \r\nQ 39.75 74.21875 46.484375 68.546875 \r\nQ 53.21875 62.890625 53.21875 53.421875 \r\nQ 53.21875 48.921875 51.53125 44.890625 \r\nQ 49.859375 40.875 45.40625 35.40625 \r\nQ 44.1875 33.984375 37.640625 27.21875 \r\nQ 31.109375 20.453125 19.1875 8.296875 \r\nz\r\n\" id=\"DejaVuSans-50\"/>\r\n       </defs>\r\n       <use xlink:href=\"#DejaVuSans-50\"/>\r\n       <use x=\"63.623047\" xlink:href=\"#DejaVuSans-48\"/>\r\n      </g>\r\n     </g>\r\n    </g>\r\n    <g id=\"xtick_3\">\r\n     <g id=\"line2d_3\">\r\n      <g>\r\n       <use style=\"stroke:#000000;stroke-width:0.8;\" x=\"173.429261\" xlink:href=\"#mcd80bb41e6\" y=\"226.716919\"/>\r\n      </g>\r\n     </g>\r\n     <g id=\"text_3\">\r\n      <!-- 40 -->\r\n      <g transform=\"translate(167.066761 241.315356)scale(0.1 -0.1)\">\r\n       <defs>\r\n        <path d=\"M 37.796875 64.3125 \r\nL 12.890625 25.390625 \r\nL 37.796875 25.390625 \r\nz\r\nM 35.203125 72.90625 \r\nL 47.609375 72.90625 \r\nL 47.609375 25.390625 \r\nL 58.015625 25.390625 \r\nL 58.015625 17.1875 \r\nL 47.609375 17.1875 \r\nL 47.609375 0 \r\nL 37.796875 0 \r\nL 37.796875 17.1875 \r\nL 4.890625 17.1875 \r\nL 4.890625 26.703125 \r\nz\r\n\" id=\"DejaVuSans-52\"/>\r\n       </defs>\r\n       <use xlink:href=\"#DejaVuSans-52\"/>\r\n       <use x=\"63.623047\" xlink:href=\"#DejaVuSans-48\"/>\r\n      </g>\r\n     </g>\r\n    </g>\r\n    <g id=\"xtick_4\">\r\n     <g id=\"line2d_4\">\r\n      <g>\r\n       <use style=\"stroke:#000000;stroke-width:0.8;\" x=\"234.301989\" xlink:href=\"#mcd80bb41e6\" y=\"226.716919\"/>\r\n      </g>\r\n     </g>\r\n     <g id=\"text_4\">\r\n      <!-- 60 -->\r\n      <g transform=\"translate(227.939489 241.315356)scale(0.1 -0.1)\">\r\n       <defs>\r\n        <path d=\"M 33.015625 40.375 \r\nQ 26.375 40.375 22.484375 35.828125 \r\nQ 18.609375 31.296875 18.609375 23.390625 \r\nQ 18.609375 15.53125 22.484375 10.953125 \r\nQ 26.375 6.390625 33.015625 6.390625 \r\nQ 39.65625 6.390625 43.53125 10.953125 \r\nQ 47.40625 15.53125 47.40625 23.390625 \r\nQ 47.40625 31.296875 43.53125 35.828125 \r\nQ 39.65625 40.375 33.015625 40.375 \r\nz\r\nM 52.59375 71.296875 \r\nL 52.59375 62.3125 \r\nQ 48.875 64.0625 45.09375 64.984375 \r\nQ 41.3125 65.921875 37.59375 65.921875 \r\nQ 27.828125 65.921875 22.671875 59.328125 \r\nQ 17.53125 52.734375 16.796875 39.40625 \r\nQ 19.671875 43.65625 24.015625 45.921875 \r\nQ 28.375 48.1875 33.59375 48.1875 \r\nQ 44.578125 48.1875 50.953125 41.515625 \r\nQ 57.328125 34.859375 57.328125 23.390625 \r\nQ 57.328125 12.15625 50.6875 5.359375 \r\nQ 44.046875 -1.421875 33.015625 -1.421875 \r\nQ 20.359375 -1.421875 13.671875 8.265625 \r\nQ 6.984375 17.96875 6.984375 36.375 \r\nQ 6.984375 53.65625 15.1875 63.9375 \r\nQ 23.390625 74.21875 37.203125 74.21875 \r\nQ 40.921875 74.21875 44.703125 73.484375 \r\nQ 48.484375 72.75 52.59375 71.296875 \r\nz\r\n\" id=\"DejaVuSans-54\"/>\r\n       </defs>\r\n       <use xlink:href=\"#DejaVuSans-54\"/>\r\n       <use x=\"63.623047\" xlink:href=\"#DejaVuSans-48\"/>\r\n      </g>\r\n     </g>\r\n    </g>\r\n    <g id=\"xtick_5\">\r\n     <g id=\"line2d_5\">\r\n      <g>\r\n       <use style=\"stroke:#000000;stroke-width:0.8;\" x=\"295.174716\" xlink:href=\"#mcd80bb41e6\" y=\"226.716919\"/>\r\n      </g>\r\n     </g>\r\n     <g id=\"text_5\">\r\n      <!-- 80 -->\r\n      <g transform=\"translate(288.812216 241.315356)scale(0.1 -0.1)\">\r\n       <defs>\r\n        <path d=\"M 31.78125 34.625 \r\nQ 24.75 34.625 20.71875 30.859375 \r\nQ 16.703125 27.09375 16.703125 20.515625 \r\nQ 16.703125 13.921875 20.71875 10.15625 \r\nQ 24.75 6.390625 31.78125 6.390625 \r\nQ 38.8125 6.390625 42.859375 10.171875 \r\nQ 46.921875 13.96875 46.921875 20.515625 \r\nQ 46.921875 27.09375 42.890625 30.859375 \r\nQ 38.875 34.625 31.78125 34.625 \r\nz\r\nM 21.921875 38.8125 \r\nQ 15.578125 40.375 12.03125 44.71875 \r\nQ 8.5 49.078125 8.5 55.328125 \r\nQ 8.5 64.0625 14.71875 69.140625 \r\nQ 20.953125 74.21875 31.78125 74.21875 \r\nQ 42.671875 74.21875 48.875 69.140625 \r\nQ 55.078125 64.0625 55.078125 55.328125 \r\nQ 55.078125 49.078125 51.53125 44.71875 \r\nQ 48 40.375 41.703125 38.8125 \r\nQ 48.828125 37.15625 52.796875 32.3125 \r\nQ 56.78125 27.484375 56.78125 20.515625 \r\nQ 56.78125 9.90625 50.3125 4.234375 \r\nQ 43.84375 -1.421875 31.78125 -1.421875 \r\nQ 19.734375 -1.421875 13.25 4.234375 \r\nQ 6.78125 9.90625 6.78125 20.515625 \r\nQ 6.78125 27.484375 10.78125 32.3125 \r\nQ 14.796875 37.15625 21.921875 38.8125 \r\nz\r\nM 18.3125 54.390625 \r\nQ 18.3125 48.734375 21.84375 45.5625 \r\nQ 25.390625 42.390625 31.78125 42.390625 \r\nQ 38.140625 42.390625 41.71875 45.5625 \r\nQ 45.3125 48.734375 45.3125 54.390625 \r\nQ 45.3125 60.0625 41.71875 63.234375 \r\nQ 38.140625 66.40625 31.78125 66.40625 \r\nQ 25.390625 66.40625 21.84375 63.234375 \r\nQ 18.3125 60.0625 18.3125 54.390625 \r\nz\r\n\" id=\"DejaVuSans-56\"/>\r\n       </defs>\r\n       <use xlink:href=\"#DejaVuSans-56\"/>\r\n       <use x=\"63.623047\" xlink:href=\"#DejaVuSans-48\"/>\r\n      </g>\r\n     </g>\r\n    </g>\r\n    <g id=\"xtick_6\">\r\n     <g id=\"line2d_6\">\r\n      <g>\r\n       <use style=\"stroke:#000000;stroke-width:0.8;\" x=\"356.047443\" xlink:href=\"#mcd80bb41e6\" y=\"226.716919\"/>\r\n      </g>\r\n     </g>\r\n     <g id=\"text_6\">\r\n      <!-- 100 -->\r\n      <g transform=\"translate(346.503693 241.315356)scale(0.1 -0.1)\">\r\n       <defs>\r\n        <path d=\"M 12.40625 8.296875 \r\nL 28.515625 8.296875 \r\nL 28.515625 63.921875 \r\nL 10.984375 60.40625 \r\nL 10.984375 69.390625 \r\nL 28.421875 72.90625 \r\nL 38.28125 72.90625 \r\nL 38.28125 8.296875 \r\nL 54.390625 8.296875 \r\nL 54.390625 0 \r\nL 12.40625 0 \r\nz\r\n\" id=\"DejaVuSans-49\"/>\r\n       </defs>\r\n       <use xlink:href=\"#DejaVuSans-49\"/>\r\n       <use x=\"63.623047\" xlink:href=\"#DejaVuSans-48\"/>\r\n       <use x=\"127.246094\" xlink:href=\"#DejaVuSans-48\"/>\r\n      </g>\r\n     </g>\r\n    </g>\r\n   </g>\r\n   <g id=\"matplotlib.axis_2\">\r\n    <g id=\"ytick_1\">\r\n     <g id=\"line2d_7\">\r\n      <defs>\r\n       <path d=\"M 0 0 \r\nL -3.5 0 \r\n\" id=\"ma734b45d3c\" style=\"stroke:#000000;stroke-width:0.8;\"/>\r\n      </defs>\r\n      <g>\r\n       <use style=\"stroke:#000000;stroke-width:0.8;\" x=\"36.465625\" xlink:href=\"#ma734b45d3c\" y=\"216.834257\"/>\r\n      </g>\r\n     </g>\r\n     <g id=\"text_7\">\r\n      <!-- 0.00 -->\r\n      <g transform=\"translate(7.2 220.633475)scale(0.1 -0.1)\">\r\n       <defs>\r\n        <path d=\"M 10.6875 12.40625 \r\nL 21 12.40625 \r\nL 21 0 \r\nL 10.6875 0 \r\nz\r\n\" id=\"DejaVuSans-46\"/>\r\n       </defs>\r\n       <use xlink:href=\"#DejaVuSans-48\"/>\r\n       <use x=\"63.623047\" xlink:href=\"#DejaVuSans-46\"/>\r\n       <use x=\"95.410156\" xlink:href=\"#DejaVuSans-48\"/>\r\n       <use x=\"159.033203\" xlink:href=\"#DejaVuSans-48\"/>\r\n      </g>\r\n     </g>\r\n    </g>\r\n    <g id=\"ytick_2\">\r\n     <g id=\"line2d_8\">\r\n      <g>\r\n       <use style=\"stroke:#000000;stroke-width:0.8;\" x=\"36.465625\" xlink:href=\"#ma734b45d3c\" y=\"175.667249\"/>\r\n      </g>\r\n     </g>\r\n     <g id=\"text_8\">\r\n      <!-- 0.01 -->\r\n      <g transform=\"translate(7.2 179.466468)scale(0.1 -0.1)\">\r\n       <use xlink:href=\"#DejaVuSans-48\"/>\r\n       <use x=\"63.623047\" xlink:href=\"#DejaVuSans-46\"/>\r\n       <use x=\"95.410156\" xlink:href=\"#DejaVuSans-48\"/>\r\n       <use x=\"159.033203\" xlink:href=\"#DejaVuSans-49\"/>\r\n      </g>\r\n     </g>\r\n    </g>\r\n    <g id=\"ytick_3\">\r\n     <g id=\"line2d_9\">\r\n      <g>\r\n       <use style=\"stroke:#000000;stroke-width:0.8;\" x=\"36.465625\" xlink:href=\"#ma734b45d3c\" y=\"134.500241\"/>\r\n      </g>\r\n     </g>\r\n     <g id=\"text_9\">\r\n      <!-- 0.02 -->\r\n      <g transform=\"translate(7.2 138.29946)scale(0.1 -0.1)\">\r\n       <use xlink:href=\"#DejaVuSans-48\"/>\r\n       <use x=\"63.623047\" xlink:href=\"#DejaVuSans-46\"/>\r\n       <use x=\"95.410156\" xlink:href=\"#DejaVuSans-48\"/>\r\n       <use x=\"159.033203\" xlink:href=\"#DejaVuSans-50\"/>\r\n      </g>\r\n     </g>\r\n    </g>\r\n    <g id=\"ytick_4\">\r\n     <g id=\"line2d_10\">\r\n      <g>\r\n       <use style=\"stroke:#000000;stroke-width:0.8;\" x=\"36.465625\" xlink:href=\"#ma734b45d3c\" y=\"93.333234\"/>\r\n      </g>\r\n     </g>\r\n     <g id=\"text_10\">\r\n      <!-- 0.03 -->\r\n      <g transform=\"translate(7.2 97.132453)scale(0.1 -0.1)\">\r\n       <defs>\r\n        <path d=\"M 40.578125 39.3125 \r\nQ 47.65625 37.796875 51.625 33 \r\nQ 55.609375 28.21875 55.609375 21.1875 \r\nQ 55.609375 10.40625 48.1875 4.484375 \r\nQ 40.765625 -1.421875 27.09375 -1.421875 \r\nQ 22.515625 -1.421875 17.65625 -0.515625 \r\nQ 12.796875 0.390625 7.625 2.203125 \r\nL 7.625 11.71875 \r\nQ 11.71875 9.328125 16.59375 8.109375 \r\nQ 21.484375 6.890625 26.8125 6.890625 \r\nQ 36.078125 6.890625 40.9375 10.546875 \r\nQ 45.796875 14.203125 45.796875 21.1875 \r\nQ 45.796875 27.640625 41.28125 31.265625 \r\nQ 36.765625 34.90625 28.71875 34.90625 \r\nL 20.21875 34.90625 \r\nL 20.21875 43.015625 \r\nL 29.109375 43.015625 \r\nQ 36.375 43.015625 40.234375 45.921875 \r\nQ 44.09375 48.828125 44.09375 54.296875 \r\nQ 44.09375 59.90625 40.109375 62.90625 \r\nQ 36.140625 65.921875 28.71875 65.921875 \r\nQ 24.65625 65.921875 20.015625 65.03125 \r\nQ 15.375 64.15625 9.8125 62.3125 \r\nL 9.8125 71.09375 \r\nQ 15.4375 72.65625 20.34375 73.4375 \r\nQ 25.25 74.21875 29.59375 74.21875 \r\nQ 40.828125 74.21875 47.359375 69.109375 \r\nQ 53.90625 64.015625 53.90625 55.328125 \r\nQ 53.90625 49.265625 50.4375 45.09375 \r\nQ 46.96875 40.921875 40.578125 39.3125 \r\nz\r\n\" id=\"DejaVuSans-51\"/>\r\n       </defs>\r\n       <use xlink:href=\"#DejaVuSans-48\"/>\r\n       <use x=\"63.623047\" xlink:href=\"#DejaVuSans-46\"/>\r\n       <use x=\"95.410156\" xlink:href=\"#DejaVuSans-48\"/>\r\n       <use x=\"159.033203\" xlink:href=\"#DejaVuSans-51\"/>\r\n      </g>\r\n     </g>\r\n    </g>\r\n    <g id=\"ytick_5\">\r\n     <g id=\"line2d_11\">\r\n      <g>\r\n       <use style=\"stroke:#000000;stroke-width:0.8;\" x=\"36.465625\" xlink:href=\"#ma734b45d3c\" y=\"52.166226\"/>\r\n      </g>\r\n     </g>\r\n     <g id=\"text_11\">\r\n      <!-- 0.04 -->\r\n      <g transform=\"translate(7.2 55.965445)scale(0.1 -0.1)\">\r\n       <use xlink:href=\"#DejaVuSans-48\"/>\r\n       <use x=\"63.623047\" xlink:href=\"#DejaVuSans-46\"/>\r\n       <use x=\"95.410156\" xlink:href=\"#DejaVuSans-48\"/>\r\n       <use x=\"159.033203\" xlink:href=\"#DejaVuSans-52\"/>\r\n      </g>\r\n     </g>\r\n    </g>\r\n    <g id=\"ytick_6\">\r\n     <g id=\"line2d_12\">\r\n      <g>\r\n       <use style=\"stroke:#000000;stroke-width:0.8;\" x=\"36.465625\" xlink:href=\"#ma734b45d3c\" y=\"10.999219\"/>\r\n      </g>\r\n     </g>\r\n     <g id=\"text_12\">\r\n      <!-- 0.05 -->\r\n      <g transform=\"translate(7.2 14.798437)scale(0.1 -0.1)\">\r\n       <defs>\r\n        <path d=\"M 10.796875 72.90625 \r\nL 49.515625 72.90625 \r\nL 49.515625 64.59375 \r\nL 19.828125 64.59375 \r\nL 19.828125 46.734375 \r\nQ 21.96875 47.46875 24.109375 47.828125 \r\nQ 26.265625 48.1875 28.421875 48.1875 \r\nQ 40.625 48.1875 47.75 41.5 \r\nQ 54.890625 34.8125 54.890625 23.390625 \r\nQ 54.890625 11.625 47.5625 5.09375 \r\nQ 40.234375 -1.421875 26.90625 -1.421875 \r\nQ 22.3125 -1.421875 17.546875 -0.640625 \r\nQ 12.796875 0.140625 7.71875 1.703125 \r\nL 7.71875 11.625 \r\nQ 12.109375 9.234375 16.796875 8.0625 \r\nQ 21.484375 6.890625 26.703125 6.890625 \r\nQ 35.15625 6.890625 40.078125 11.328125 \r\nQ 45.015625 15.765625 45.015625 23.390625 \r\nQ 45.015625 31 40.078125 35.4375 \r\nQ 35.15625 39.890625 26.703125 39.890625 \r\nQ 22.75 39.890625 18.8125 39.015625 \r\nQ 14.890625 38.140625 10.796875 36.28125 \r\nz\r\n\" id=\"DejaVuSans-53\"/>\r\n       </defs>\r\n       <use xlink:href=\"#DejaVuSans-48\"/>\r\n       <use x=\"63.623047\" xlink:href=\"#DejaVuSans-46\"/>\r\n       <use x=\"95.410156\" xlink:href=\"#DejaVuSans-48\"/>\r\n       <use x=\"159.033203\" xlink:href=\"#DejaVuSans-53\"/>\r\n      </g>\r\n     </g>\r\n    </g>\r\n   </g>\r\n   <g id=\"line2d_13\">\r\n    <path clip-path=\"url(#p247b1daa3b)\" d=\"M 51.683807 216.833036 \r\nL 54.727443 212.947434 \r\nL 57.77108 213.48059 \r\nL 60.814716 213.42942 \r\nL 63.858352 215.595191 \r\nL 66.901989 212.629184 \r\nL 69.945625 204.434459 \r\nL 72.989261 210.517163 \r\nL 76.032898 211.546233 \r\nL 79.076534 216.713716 \r\nL 82.12017 215.553159 \r\nL 85.163807 216.251081 \r\nL 88.207443 203.946251 \r\nL 91.25108 214.145116 \r\nL 94.294716 216.810355 \r\nL 97.338352 216.624743 \r\nL 100.381989 214.689707 \r\nL 103.425625 216.819513 \r\nL 106.469261 207.028438 \r\nL 109.512898 187.045733 \r\nL 112.556534 199.629771 \r\nL 115.60017 214.140533 \r\nL 118.643807 216.656255 \r\nL 121.687443 198.865897 \r\nL 124.73108 175.321732 \r\nL 127.774716 184.637643 \r\nL 130.818352 176.714719 \r\nL 133.861989 163.674622 \r\nL 136.905625 162.525989 \r\nL 139.949261 164.145676 \r\nL 142.992898 161.318494 \r\nL 146.036534 168.601611 \r\nL 149.08017 194.2532 \r\nL 152.123807 210.561296 \r\nL 155.167443 213.314277 \r\nL 158.21108 216.473534 \r\nL 161.254716 213.788663 \r\nL 164.298352 210.234473 \r\nL 167.341989 208.890595 \r\nL 170.385625 199.713863 \r\nL 173.429261 188.971754 \r\nL 176.472898 169.119823 \r\nL 179.516534 147.925801 \r\nL 182.56017 143.44649 \r\nL 185.603807 170.032121 \r\nL 188.647443 210.653212 \r\nL 191.69108 211.899862 \r\nL 194.734716 214.074248 \r\nL 197.778352 216.294201 \r\nL 200.821989 216.535766 \r\nL 203.865625 214.394213 \r\nL 206.909261 213.997552 \r\nL 209.952898 206.891417 \r\nL 212.996534 204.855698 \r\nL 216.04017 214.276844 \r\nL 219.083807 212.36721 \r\nL 222.127443 198.26739 \r\nL 225.17108 187.858804 \r\nL 228.214716 204.151776 \r\nL 231.258352 210.695406 \r\nL 234.301989 215.378224 \r\nL 237.345625 216.773848 \r\nL 240.389261 216.742046 \r\nL 243.432898 210.549894 \r\nL 246.476534 187.223574 \r\nL 249.52017 193.513888 \r\nL 252.563807 204.212622 \r\nL 255.607443 216.824931 \r\nL 258.65108 203.870148 \r\nL 261.694716 204.976285 \r\nL 264.738352 215.666813 \r\nL 267.781989 216.709903 \r\nL 270.825625 216.64907 \r\nL 273.869261 215.884863 \r\nL 276.912898 215.865842 \r\nL 279.956534 215.605455 \r\nL 283.00017 214.689691 \r\nL 286.043807 215.899152 \r\nL 289.087443 213.442738 \r\nL 292.13108 216.6068 \r\nL 295.174716 216.833128 \r\nL 298.218352 216.808678 \r\nL 301.261989 216.760827 \r\nL 304.305625 212.48088 \r\nL 307.349261 210.959628 \r\nL 310.392898 210.90352 \r\nL 313.436534 175.069008 \r\nL 316.48017 147.212122 \r\nL 319.523807 181.064258 \r\nL 322.567443 181.302992 \r\nL 325.61108 156.511201 \r\nL 328.654716 156.454079 \r\nL 331.698352 158.57025 \r\nL 334.741989 171.010222 \r\nL 337.785625 188.378726 \r\nL 340.829261 216.321802 \r\nL 343.872898 194.327169 \r\nL 346.916534 193.839788 \r\nL 349.96017 205.427008 \r\nL 353.003807 202.844945 \r\nL 356.047443 207.36904 \r\n\" style=\"fill:none;stroke:#1f77b4;stroke-linecap:square;stroke-width:1.5;\"/>\r\n   </g>\r\n   <g id=\"line2d_14\">\r\n    <path clip-path=\"url(#p247b1daa3b)\" d=\"M 51.683807 47.007784 \r\nL 54.727443 19.160555 \r\nL 57.77108 55.24384 \r\nL 60.814716 81.300325 \r\nL 63.858352 100.425771 \r\nL 66.901989 68.845009 \r\nL 69.945625 26.867814 \r\nL 72.989261 63.037531 \r\nL 76.032898 94.293226 \r\nL 79.076534 184.772129 \r\nL 82.12017 196.646604 \r\nL 85.163807 100.785168 \r\nL 88.207443 135.005554 \r\nL 91.25108 186.330391 \r\nL 94.294716 214.2609 \r\nL 97.338352 215.601232 \r\nL 100.381989 215.857081 \r\nL 103.425625 214.126801 \r\nL 106.469261 208.556037 \r\nL 109.512898 212.855753 \r\nL 112.556534 215.886158 \r\nL 115.60017 216.651198 \r\nL 118.643807 214.952151 \r\nL 121.687443 208.307002 \r\nL 124.73108 196.295183 \r\nL 127.774716 197.268099 \r\nL 130.818352 194.593201 \r\nL 133.861989 190.041437 \r\nL 136.905625 207.505471 \r\nL 139.949261 215.741654 \r\nL 142.992898 216.328379 \r\nL 146.036534 215.635601 \r\nL 149.08017 214.571024 \r\nL 152.123807 210.607961 \r\nL 155.167443 213.101841 \r\nL 158.21108 211.215376 \r\nL 161.254716 204.308803 \r\nL 164.298352 208.505891 \r\nL 167.341989 211.998079 \r\nL 170.385625 209.852773 \r\nL 173.429261 208.579759 \r\nL 176.472898 207.920914 \r\nL 179.516534 215.559168 \r\nL 182.56017 215.726598 \r\nL 185.603807 216.645183 \r\nL 188.647443 216.833061 \r\nL 191.69108 216.63901 \r\nL 194.734716 216.822528 \r\nL 197.778352 214.956779 \r\nL 200.821989 213.575389 \r\nL 203.865625 215.152026 \r\nL 206.909261 215.560527 \r\nL 209.952898 215.965715 \r\nL 212.996534 215.57479 \r\nL 216.04017 216.675645 \r\nL 219.083807 215.441281 \r\nL 222.127443 216.617952 \r\nL 225.17108 216.833282 \r\nL 228.214716 214.641108 \r\nL 231.258352 211.286369 \r\nL 234.301989 215.84195 \r\nL 237.345625 216.572495 \r\nL 240.389261 212.41443 \r\nL 243.432898 210.78092 \r\nL 246.476534 215.001953 \r\nL 249.52017 216.328806 \r\nL 252.563807 215.50748 \r\nL 255.607443 215.147348 \r\nL 258.65108 204.650143 \r\nL 261.694716 206.869028 \r\nL 264.738352 216.683 \r\nL 267.781989 216.115629 \r\nL 270.825625 216.829714 \r\nL 273.869261 216.820836 \r\nL 276.912898 214.423204 \r\nL 279.956534 212.853418 \r\nL 283.00017 216.210618 \r\nL 286.043807 216.700302 \r\nL 289.087443 216.066089 \r\nL 292.13108 210.123978 \r\nL 295.174716 213.076028 \r\nL 298.218352 211.437428 \r\nL 301.261989 187.838518 \r\nL 304.305625 172.053654 \r\nL 307.349261 188.688225 \r\nL 310.392898 181.913077 \r\nL 313.436534 185.674528 \r\nL 316.48017 191.65717 \r\nL 319.523807 195.985151 \r\nL 322.567443 202.752161 \r\nL 325.61108 202.189932 \r\nL 328.654716 209.759209 \r\nL 331.698352 208.194236 \r\nL 334.741989 213.188619 \r\nL 337.785625 216.799176 \r\nL 340.829261 206.201796 \r\nL 343.872898 185.382393 \r\nL 346.916534 176.234483 \r\nL 349.96017 183.713244 \r\nL 353.003807 210.483565 \r\nL 356.047443 209.449211 \r\n\" style=\"fill:none;stroke:#ff7f0e;stroke-linecap:square;stroke-width:1.5;\"/>\r\n   </g>\r\n   <g id=\"patch_3\">\r\n    <path d=\"M 36.465625 226.716919 \r\nL 36.465625 9.276919 \r\n\" style=\"fill:none;stroke:#000000;stroke-linecap:square;stroke-linejoin:miter;stroke-width:0.8;\"/>\r\n   </g>\r\n   <g id=\"patch_4\">\r\n    <path d=\"M 371.265625 226.716919 \r\nL 371.265625 9.276919 \r\n\" style=\"fill:none;stroke:#000000;stroke-linecap:square;stroke-linejoin:miter;stroke-width:0.8;\"/>\r\n   </g>\r\n   <g id=\"patch_5\">\r\n    <path d=\"M 36.465625 226.716919 \r\nL 371.265625 226.716919 \r\n\" style=\"fill:none;stroke:#000000;stroke-linecap:square;stroke-linejoin:miter;stroke-width:0.8;\"/>\r\n   </g>\r\n   <g id=\"patch_6\">\r\n    <path d=\"M 36.465625 9.276919 \r\nL 371.265625 9.276919 \r\n\" style=\"fill:none;stroke:#000000;stroke-linecap:square;stroke-linejoin:miter;stroke-width:0.8;\"/>\r\n   </g>\r\n  </g>\r\n </g>\r\n <defs>\r\n  <clipPath id=\"p247b1daa3b\">\r\n   <rect height=\"217.44\" width=\"334.8\" x=\"36.465625\" y=\"9.276919\"/>\r\n  </clipPath>\r\n </defs>\r\n</svg>\r\n",
      "image/png": "[encoded data removed]"
     },
     "metadata": {
      "needs_background": "light"
     }
    }
   ],
   "source": [
    "plt.plot(la)\n",
    "plt.plot(lb)"
   ]
  },
  {
   "cell_type": "code",
   "execution_count": 14,
   "metadata": {},
   "outputs": [],
   "source": [
    "def predict():\n",
    "    pred_a = torch.tensor([])\n",
    "    pred_b = torch.tensor([])\n",
    "\n",
    "    for i in tqdm(  range(  int((len(a)-SEQ_LEN)/OUT_DIM)  )  ):\n",
    "        Xa = a[i*OUT_DIM : i*OUT_DIM + SEQ_LEN]\n",
    "        Xb = b[i*OUT_DIM : i*OUT_DIM + SEQ_LEN]\n",
    "\n",
    "        Xa = Xa.view(-1, SEQ_LEN)\n",
    "        Xb = Xb.view(-1, SEQ_LEN)\n",
    "\n",
    "        out_a = model_a(Xa).squeeze().cpu()\n",
    "        out_b = model_b(Xb).squeeze().cpu()\n",
    "\n",
    "        pred_a = torch.cat((pred_a, out_a))\n",
    "        pred_b = torch.cat((pred_b, out_b))\n",
    "\n",
    "    pred_a = pred_a.detach().numpy()\n",
    "    pred_b = pred_b.detach().numpy()\n",
    "\n",
    "    pred_a = scaler_a.inverse_transform(pred_a.reshape(-1,1))\n",
    "    pred_b = scaler_b.inverse_transform(pred_b.reshape(-1,1))\n",
    "\n",
    "    song = np.stack((pred_a.squeeze(), pred_b.squeeze()))\n",
    "\n",
    "    wav.write('data/hans_zimmer/out.wav', sample_rate, song.T)"
   ]
  }
 ]
}