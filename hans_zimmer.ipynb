{
 "metadata": {
  "language_info": {
   "codemirror_mode": {
    "name": "ipython",
    "version": 3
   },
   "file_extension": ".py",
   "mimetype": "text/x-python",
   "name": "python",
   "nbconvert_exporter": "python",
   "pygments_lexer": "ipython3",
   "version": "3.8.2-final"
  },
  "orig_nbformat": 2,
  "kernelspec": {
   "name": "python3",
   "display_name": "Python 3",
   "language": "python"
  }
 },
 "nbformat": 4,
 "nbformat_minor": 2,
 "cells": [
  {
   "source": [
    "coggers is my favorite song from interstellar, let's see what it looks like"
   ],
   "cell_type": "markdown",
   "metadata": {}
  },
  {
   "cell_type": "code",
   "execution_count": 1,
   "metadata": {},
   "outputs": [],
   "source": [
    "import scipy.io.wavfile as wav\n",
    "import matplotlib.pyplot as plt\n",
    "import numpy as np\n",
    "\n",
    "from tqdm import tqdm\n",
    "from sklearn.preprocessing import MinMaxScaler\n",
    "\n",
    "import torch\n",
    "import torch.nn as nn\n",
    "import torch.nn.functional as F\n",
    "import torch.optim as optim\n",
    "from torch.utils.data import DataLoader, TensorDataset"
   ]
  },
  {
   "cell_type": "code",
   "execution_count": 2,
   "metadata": {},
   "outputs": [],
   "source": [
    "sample_rate, coggers = wav.read('data/hans_zimmer/coggers.wav')"
   ]
  },
  {
   "cell_type": "code",
   "execution_count": 3,
   "metadata": {},
   "outputs": [
    {
     "output_type": "execute_result",
     "data": {
      "text/plain": [
       "(10590336, 44100)"
      ]
     },
     "metadata": {},
     "execution_count": 3
    }
   ],
   "source": [
    "length = len(coggers)\n",
    "\n",
    "length, sample_rate"
   ]
  },
  {
   "cell_type": "code",
   "execution_count": 4,
   "metadata": {},
   "outputs": [
    {
     "output_type": "execute_result",
     "data": {
      "text/plain": [
       "44126.4"
      ]
     },
     "metadata": {},
     "execution_count": 4
    }
   ],
   "source": [
    "# song length: 240 seconds\n",
    "\n",
    "length/240 # approximately the sample rate"
   ]
  },
  {
   "cell_type": "code",
   "execution_count": 5,
   "metadata": {},
   "outputs": [],
   "source": [
    "# split the data into two tracks for separate training\n",
    "\n",
    "a = coggers[:,0]\n",
    "b = coggers[:,1]"
   ]
  },
  {
   "cell_type": "code",
   "execution_count": 6,
   "metadata": {},
   "outputs": [],
   "source": [
    "# plt.plot(a, 'b')\n",
    "# plt.plot(b, 'r')"
   ]
  },
  {
   "cell_type": "code",
   "execution_count": 7,
   "metadata": {},
   "outputs": [
    {
     "output_type": "stream",
     "name": "stdout",
     "text": [
      "22050\n"
     ]
    }
   ],
   "source": [
    "# HYPERPARAMETERS\n",
    "\n",
    "SEQ_LEN = 0.5 # this is in seconds\n",
    "SEQ_LEN = int(SEQ_LEN * sample_rate)\n",
    "print(SEQ_LEN)\n",
    "\n",
    "VAL_PCT = 0.2\n",
    "\n",
    "# gonna list some powers of 2 here for reference\n",
    "# 1024, 2048, 4096, 8192, 16384, 32768, 65536, 131072, 262144, 524288, 1048576, 2097152\n",
    "HIDDEN_DIM = 1024\n",
    "N_LAYERS = 2\n",
    "OUT_DIM = 1\n",
    "\n",
    "EPOCHS = 4\n",
    "LR = 0.001"
   ]
  },
  {
   "cell_type": "code",
   "execution_count": 8,
   "metadata": {},
   "outputs": [],
   "source": [
    "scaler_a = MinMaxScaler(feature_range=(-1,1))\n",
    "scaler_b = MinMaxScaler(feature_range=(-1,1))\n",
    "\n",
    "a = scaler_a.fit_transform(a.reshape(-1,1))\n",
    "b = scaler_b.fit_transform(b.reshape(-1,1))"
   ]
  },
  {
   "cell_type": "code",
   "execution_count": 9,
   "metadata": {},
   "outputs": [],
   "source": [
    "a = torch.tensor(a).cuda().float()\n",
    "b = torch.tensor(b).cuda().float()"
   ]
  },
  {
   "cell_type": "code",
   "execution_count": 10,
   "metadata": {},
   "outputs": [
    {
     "output_type": "execute_result",
     "data": {
      "text/plain": [
       "'data_a = []\\ndata_b = []\\n\\nfor i in tqdm(range(len(a)-SEQ_LEN)):\\n    data_a.append(a[i:i+SEQ_LEN])\\n    data_b.append(b[i:i+SEQ_LEN])\\n\\nX_a = [i[:-1] for i in data_a]\\nY_a = [i[-1] for i in data_a]\\n\\nX_b = [i[:-1] for i in data_b]\\nY_b = [i[-1] for i in data_b]'"
      ]
     },
     "metadata": {},
     "execution_count": 10
    }
   ],
   "source": [
    "'''data_a = []\n",
    "data_b = []\n",
    "\n",
    "for i in tqdm(range(len(a)-SEQ_LEN)):\n",
    "    data_a.append(a[i:i+SEQ_LEN])\n",
    "    data_b.append(b[i:i+SEQ_LEN])\n",
    "\n",
    "X_a = [i[:-1] for i in data_a]\n",
    "Y_a = [i[-1] for i in data_a]\n",
    "\n",
    "X_b = [i[:-1] for i in data_b]\n",
    "Y_b = [i[-1] for i in data_b]'''"
   ]
  },
  {
   "cell_type": "code",
   "execution_count": 11,
   "metadata": {},
   "outputs": [
    {
     "output_type": "execute_result",
     "data": {
      "text/plain": [
       "\"X_a = np.array(X_a, dtype='float32').squeeze()\\nX_b = np.array(X_b).squeeze()\\nY_a = np.array(Y_a).squeeze()\\nY_b = np.array(Y_b).squeeze()\\n\\nX_a = torch.tensor(X_a).float().cuda()\\nY_a = torch.tensor(Y_a).float().cuda()\\nX_b = torch.tensor(X_b).float().cuda()\\nY_a = torch.tensor(Y_a).float().cuda()\""
      ]
     },
     "metadata": {},
     "execution_count": 11
    }
   ],
   "source": [
    "'''X_a = np.array(X_a, dtype='float32').squeeze()\n",
    "X_b = np.array(X_b).squeeze()\n",
    "Y_a = np.array(Y_a).squeeze()\n",
    "Y_b = np.array(Y_b).squeeze()\n",
    "\n",
    "X_a = torch.tensor(X_a).float().cuda()\n",
    "Y_a = torch.tensor(Y_a).float().cuda()\n",
    "X_b = torch.tensor(X_b).float().cuda()\n",
    "Y_a = torch.tensor(Y_a).float().cuda()'''"
   ]
  },
  {
   "cell_type": "code",
   "execution_count": 12,
   "metadata": {},
   "outputs": [
    {
     "output_type": "execute_result",
     "data": {
      "text/plain": [
       "'train_set_a = TensorDataset(X_a, Y_a)\\ntrain_set_b = TensorDataset(X_b, Y_b)\\n\\nloader_a = DataLoader(train_set_a, batch_size=BATCH_SIZE, shuffle=False)\\nloader_b = DataLoader(train_set_b, batch_size=BATCH_SIZE, shuffle=False)'"
      ]
     },
     "metadata": {},
     "execution_count": 12
    }
   ],
   "source": [
    "'''train_set_a = TensorDataset(X_a, Y_a)\n",
    "train_set_b = TensorDataset(X_b, Y_b)\n",
    "\n",
    "loader_a = DataLoader(train_set_a, batch_size=BATCH_SIZE, shuffle=False)\n",
    "loader_b = DataLoader(train_set_b, batch_size=BATCH_SIZE, shuffle=False)'''"
   ]
  },
  {
   "cell_type": "code",
   "execution_count": 13,
   "metadata": {},
   "outputs": [],
   "source": [
    "class LSTM(nn.Module):\n",
    "    def __init__(self, in_dim, hidden_dim, n_layers, out_dim):\n",
    "        super().__init__()\n",
    "        self.hidden_dim = hidden_dim\n",
    "        self.n_layers = n_layers\n",
    "\n",
    "        self.lstm = nn.LSTM(in_dim, hidden_dim, n_layers, batch_first=True)\n",
    "        self.fc1 = nn.Linear(hidden_dim, out_dim)\n",
    "    \n",
    "    def forward(self, x):\n",
    "        x, h = self.lstm(x.view(len(x),1,-1))\n",
    "        x = self.fc1(x)\n",
    "        return x"
   ]
  },
  {
   "cell_type": "code",
   "execution_count": 14,
   "metadata": {},
   "outputs": [],
   "source": [
    "model_a = LSTM(SEQ_LEN, HIDDEN_DIM, N_LAYERS, OUT_DIM).cuda()\n",
    "optimizer_a = optim.Adam(model_a.parameters(), lr=LR)\n",
    "\n",
    "# model_b = LSTM(SEQ_LEN, HIDDEN_DIM, N_LAYERS, OUT_DIM).cuda()\n",
    "# optimizer_b = optim.Adam(model_b.parameters(), lr=LR)\n",
    "\n",
    "loss_fn = nn.MSELoss()"
   ]
  },
  {
   "cell_type": "code",
   "execution_count": 15,
   "metadata": {},
   "outputs": [
    {
     "output_type": "stream",
     "name": "stderr",
     "text": [
      "  0%|          | 1138/10568286 [00:43<119:15:48, 24.61it/s]"
     ]
    }
   ],
   "source": [
    "losses_a = []\n",
    "losses_b = []\n",
    "\n",
    "for epoch in range(EPOCHS):\n",
    "    for i in tqdm(range(len(a)-SEQ_LEN)):\n",
    "        Xa = a[i:i+SEQ_LEN]\n",
    "        Ya = a[i+SEQ_LEN]\n",
    "\n",
    "        Xa = Xa.view(-1, SEQ_LEN)\n",
    "\n",
    "        out_a = model_a(Xa)\n",
    "        loss_a = loss_fn(out_a, Ya)\n",
    "\n",
    "        model_a.zero_grad()\n",
    "        loss_a.backward()\n",
    "        optimizer_a.step()\n",
    "        losses_a.append(loss_a)\n",
    "\n",
    "        \n",
    "        '''Xb = b[i:i+SEQ_LEN]\n",
    "        Yb = b[i+SEQ_LEN]\n",
    "\n",
    "        Xb = Xb.view(-1, SEQ_LEN)\n",
    "\n",
    "\n",
    "        out_b = model_b(Xb)\n",
    "        loss_b = loss_fn(out_b, Yb)\n",
    "\n",
    "        model_b.zero_grad()\n",
    "        loss_b.backward()\n",
    "        optimizer_b.step()\n",
    "        losses_b.append(loss_b)'''\n",
    "\n",
    "        "
   ]
  }
 ]
}