{
 "metadata": {
  "language_info": {
   "codemirror_mode": {
    "name": "ipython",
    "version": 3
   },
   "file_extension": ".py",
   "mimetype": "text/x-python",
   "name": "python",
   "nbconvert_exporter": "python",
   "pygments_lexer": "ipython3",
   "version": "3.8.2-final"
  },
  "orig_nbformat": 2,
  "kernelspec": {
   "name": "python3",
   "display_name": "Python 3",
   "language": "python"
  }
 },
 "nbformat": 4,
 "nbformat_minor": 2,
 "cells": [
  {
   "source": [
    "coggers is my favorite song from interstellar, let's see what it looks like"
   ],
   "cell_type": "markdown",
   "metadata": {}
  },
  {
   "cell_type": "code",
   "execution_count": 1,
   "metadata": {},
   "outputs": [],
   "source": [
    "import scipy.io.wavfile as wav\n",
    "import matplotlib.pyplot as plt\n",
    "import numpy as np\n",
    "import librosa as libr\n",
    "\n",
    "from tqdm import tqdm\n",
    "from sklearn.preprocessing import MinMaxScaler\n",
    "\n",
    "import torch\n",
    "import torch.nn as nn\n",
    "import torch.nn.functional as F\n",
    "import torch.optim as optim\n",
    "from torch.utils.data import DataLoader, TensorDataset"
   ]
  },
  {
   "cell_type": "code",
   "execution_count": 2,
   "metadata": {},
   "outputs": [],
   "source": [
    "coggers, sample_rate = libr.load('data/hans_zimmer/coggers.wav', sr=8000, mono=False)"
   ]
  },
  {
   "cell_type": "code",
   "execution_count": 3,
   "metadata": {},
   "outputs": [
    {
     "output_type": "execute_result",
     "data": {
      "text/plain": [
       "(1921150, 8000)"
      ]
     },
     "metadata": {},
     "execution_count": 3
    }
   ],
   "source": [
    "length = len(coggers[0])\n",
    "\n",
    "length, sample_rate"
   ]
  },
  {
   "cell_type": "code",
   "execution_count": 4,
   "metadata": {},
   "outputs": [
    {
     "output_type": "execute_result",
     "data": {
      "text/plain": [
       "8004.791666666667"
      ]
     },
     "metadata": {},
     "execution_count": 4
    }
   ],
   "source": [
    "# song length: 240 seconds\n",
    "\n",
    "length/240 # approximately the sample rate"
   ]
  },
  {
   "cell_type": "code",
   "execution_count": 5,
   "metadata": {},
   "outputs": [],
   "source": [
    "# split the data into two tracks for separate training\n",
    "\n",
    "a = coggers[0]\n",
    "b = coggers[1]"
   ]
  },
  {
   "cell_type": "code",
   "execution_count": 6,
   "metadata": {},
   "outputs": [],
   "source": [
    "# plt.plot(a, 'b')\n",
    "# plt.plot(b, 'r')"
   ]
  },
  {
   "cell_type": "code",
   "execution_count": 7,
   "metadata": {},
   "outputs": [
    {
     "output_type": "stream",
     "name": "stdout",
     "text": [
      "4000\n"
     ]
    }
   ],
   "source": [
    "# HYPERPARAMETERS\n",
    "\n",
    "SEQ_LEN = 0.5 # this is in seconds\n",
    "SEQ_LEN = int(SEQ_LEN * sample_rate)\n",
    "print(SEQ_LEN)\n",
    "\n",
    "VAL_PCT = 0.2\n",
    "\n",
    "# gonna list some powers of 2 here for reference\n",
    "# 1024, 2048, 4096, 8192, 16384, 32768, 65536, 131072, 262144, 524288, 1048576, 2097152\n",
    "HIDDEN_DIM = 2048\n",
    "N_LAYERS = 2\n",
    "\n",
    "OUT_DIM = 100\n",
    "\n",
    "EPOCHS = 4\n",
    "LR = 0.001"
   ]
  },
  {
   "cell_type": "code",
   "execution_count": 8,
   "metadata": {},
   "outputs": [],
   "source": [
    "scaler_a = MinMaxScaler(feature_range=(-1,1))\n",
    "scaler_b = MinMaxScaler(feature_range=(-1,1))\n",
    "\n",
    "a = scaler_a.fit_transform(a.reshape(-1,1))\n",
    "b = scaler_b.fit_transform(b.reshape(-1,1))"
   ]
  },
  {
   "cell_type": "code",
   "execution_count": 9,
   "metadata": {},
   "outputs": [],
   "source": [
    "a = torch.tensor(a).cuda().float()\n",
    "b = torch.tensor(b).cuda().float()"
   ]
  },
  {
   "cell_type": "code",
   "execution_count": 10,
   "metadata": {},
   "outputs": [],
   "source": [
    "class LSTM(nn.Module):\n",
    "    def __init__(self, in_dim, hidden_dim, n_layers, out_dim):\n",
    "        super().__init__()\n",
    "        self.hidden_dim = hidden_dim\n",
    "        self.n_layers = n_layers\n",
    "\n",
    "        self.lstm = nn.LSTM(in_dim, hidden_dim, n_layers, batch_first=True)\n",
    "        self.fc1 = nn.Linear(hidden_dim, out_dim)\n",
    "    \n",
    "    def forward(self, x):\n",
    "        x, h = self.lstm(x.view(len(x),1,-1))\n",
    "        x = self.fc1(x)\n",
    "        return x"
   ]
  },
  {
   "cell_type": "code",
   "execution_count": 11,
   "metadata": {},
   "outputs": [],
   "source": [
    "# losses_a = []\n",
    "# losses_b = []\n",
    "def train():\n",
    "    model_a = LSTM(SEQ_LEN, HIDDEN_DIM, N_LAYERS, OUT_DIM).cuda()\n",
    "    optimizer_a = optim.Adam(model_a.parameters(), lr=LR)\n",
    "\n",
    "    model_b = LSTM(SEQ_LEN, HIDDEN_DIM, N_LAYERS, OUT_DIM).cuda()\n",
    "    optimizer_b = optim.Adam(model_b.parameters(), lr=LR)\n",
    "\n",
    "    loss_fn = nn.MSELoss()\n",
    "\n",
    "\n",
    "    for epoch in range(EPOCHS):\n",
    "        for i in tqdm(  range(  int((len(a)-SEQ_LEN)/OUT_DIM)  )  ):\n",
    "            Xa = a[i*OUT_DIM : i*OUT_DIM + SEQ_LEN]\n",
    "            Ya = a[i*OUT_DIM+SEQ_LEN : (i+1)*OUT_DIM + SEQ_LEN]\n",
    "\n",
    "            Xa = Xa.view(-1, SEQ_LEN)\n",
    "\n",
    "            out_a = model_a(Xa)\n",
    "            loss_a = loss_fn(out_a, Ya)\n",
    "\n",
    "            model_a.zero_grad()\n",
    "            loss_a.backward()\n",
    "            optimizer_a.step()\n",
    "            # losses_a.append(loss_a)\n",
    "\n",
    "            \n",
    "            Xb = b[i:i+SEQ_LEN]\n",
    "            Yb = b[i+SEQ_LEN]\n",
    "\n",
    "            Xb = Xb.view(-1, SEQ_LEN)\n",
    "\n",
    "\n",
    "            out_b = model_b(Xb)\n",
    "            loss_b = loss_fn(out_b, Yb)\n",
    "\n",
    "            model_b.zero_grad()\n",
    "            loss_b.backward()\n",
    "            optimizer_b.step()\n",
    "            # losses_b.append(loss_b)\n",
    "\n",
    "\n",
    "    torch.save(model_a.state_dict(), 'models/hans_zimmer/first_a.pt')\n",
    "    torch.save(model_b.state_dict(), 'models/hans_zimmer/first_b.pt')"
   ]
  },
  {
   "cell_type": "code",
   "execution_count": 12,
   "metadata": {},
   "outputs": [
    {
     "output_type": "execute_result",
     "data": {
      "text/plain": [
       "<All keys matched successfully>"
      ]
     },
     "metadata": {},
     "execution_count": 12
    }
   ],
   "source": [
    "model_a = LSTM(SEQ_LEN, HIDDEN_DIM, N_LAYERS, OUT_DIM).cuda()\n",
    "model_b = LSTM(SEQ_LEN, HIDDEN_DIM, N_LAYERS, OUT_DIM).cuda()\n",
    "\n",
    "model_a.load_state_dict(torch.load('models/hans_zimmer/first_a.pt'))\n",
    "model_b.load_state_dict(torch.load('models/hans_zimmer/first_b.pt'))"
   ]
  },
  {
   "cell_type": "code",
   "execution_count": 13,
   "metadata": {},
   "outputs": [
    {
     "output_type": "stream",
     "name": "stderr",
     "text": [
      "100%|██████████| 19171/19171 [01:42<00:00, 187.93it/s]\n"
     ]
    }
   ],
   "source": [
    "pred_a = torch.tensor([])\n",
    "pred_b = torch.tensor([])\n",
    "\n",
    "for i in tqdm(  range(  int((len(a)-SEQ_LEN)/OUT_DIM)  )  ):\n",
    "    Xa = a[i*OUT_DIM : i*OUT_DIM + SEQ_LEN]\n",
    "    Xb = b[i*OUT_DIM : i*OUT_DIM + SEQ_LEN]\n",
    "\n",
    "    Xa = Xa.view(-1, SEQ_LEN)\n",
    "    Xb = Xb.view(-1, SEQ_LEN)\n",
    "\n",
    "    out_a = model_a(Xa).squeeze().cpu()\n",
    "    out_b = model_b(Xb).squeeze().cpu()\n",
    "\n",
    "    pred_a = torch.cat((pred_a, out_a))\n",
    "    pred_b = torch.cat((pred_b, out_b))"
   ]
  },
  {
   "cell_type": "code",
   "execution_count": 14,
   "metadata": {},
   "outputs": [],
   "source": [
    "pred_a = pred_a.detach().numpy()\n",
    "pred_b = pred_b.detach().numpy()"
   ]
  },
  {
   "cell_type": "code",
   "execution_count": 16,
   "metadata": {},
   "outputs": [],
   "source": [
    "song = np.stack((pred_a, pred_b))"
   ]
  },
  {
   "cell_type": "code",
   "execution_count": 17,
   "metadata": {},
   "outputs": [],
   "source": [
    "wav.write('data/hans_zimmer/out.wav', sample_rate, song.T)"
   ]
  }
 ]
}