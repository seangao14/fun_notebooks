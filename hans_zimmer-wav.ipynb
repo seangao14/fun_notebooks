{
 "metadata": {
  "language_info": {
   "codemirror_mode": {
    "name": "ipython",
    "version": 3
   },
   "file_extension": ".py",
   "mimetype": "text/x-python",
   "name": "python",
   "nbconvert_exporter": "python",
   "pygments_lexer": "ipython3",
   "version": "3.8.2-final"
  },
  "orig_nbformat": 2,
  "kernelspec": {
   "name": "python3",
   "display_name": "Python 3",
   "language": "python"
  }
 },
 "nbformat": 4,
 "nbformat_minor": 2,
 "cells": [
  {
   "source": [
    "coggers is my favorite song from interstellar, let's see what it looks like"
   ],
   "cell_type": "markdown",
   "metadata": {}
  },
  {
   "cell_type": "code",
   "execution_count": 1,
   "metadata": {},
   "outputs": [],
   "source": [
    "import scipy.io.wavfile as wav\n",
    "import matplotlib.pyplot as plt\n",
    "import numpy as np\n",
    "import librosa as libr\n",
    "\n",
    "from tqdm import tqdm\n",
    "\n",
    "import torch\n",
    "import torch.nn as nn\n",
    "import torch.nn.functional as F\n",
    "import torch.optim as optim\n",
    "from torch.utils.data import DataLoader, TensorDataset"
   ]
  },
  {
   "cell_type": "code",
   "execution_count": 2,
   "metadata": {},
   "outputs": [],
   "source": [
    "coggers, sample_rate = libr.load('data/hans_zimmer/sample.wav', sr=8000, mono=False)\n",
    "# coggers, sample_rate = libr.load('data/hans_zimmer/coggers.wav', sr=8000, mono=False)"
   ]
  },
  {
   "cell_type": "code",
   "execution_count": 3,
   "metadata": {},
   "outputs": [],
   "source": [
    "# split the data into two tracks for separate training\n",
    "\n",
    "a = coggers[0]\n",
    "b = coggers[1]\n",
    "del coggers"
   ]
  },
  {
   "cell_type": "code",
   "execution_count": 4,
   "metadata": {},
   "outputs": [],
   "source": [
    "def take_sample(start, end):\n",
    "    a = a[start*sample_rate : end*sample_rate]\n",
    "    b = b[start*sample_rate : end*sample_rate]\n",
    "\n",
    "    sample = np.stack((a,b)).T\n",
    "\n",
    "    wav.write('data/hans_zimmer/sample.wav', sample_rate, sample)\n",
    "\n",
    "# take_sample(start=155, end=165)"
   ]
  },
  {
   "cell_type": "code",
   "execution_count": 5,
   "metadata": {},
   "outputs": [
    {
     "output_type": "stream",
     "name": "stdout",
     "text": [
      "8000\n"
     ]
    }
   ],
   "source": [
    "# HYPERPARAMETERS\n",
    "SEQ_LEN = 1 # this is in seconds\n",
    "SEQ_LEN = int(SEQ_LEN * sample_rate)\n",
    "print(SEQ_LEN)\n",
    "\n",
    "HIDDEN_DIM = 3000\n",
    "N_LAYERS = 2\n",
    "\n",
    "OUT_DIM = 2\n",
    "\n",
    "EPOCHS = 4\n",
    "LR = 0.0001"
   ]
  },
  {
   "cell_type": "code",
   "execution_count": 6,
   "metadata": {},
   "outputs": [],
   "source": [
    "class LSTM(nn.Module):\n",
    "    def __init__(self, in_dim, hidden_dim, n_layers, out_dim):\n",
    "        super().__init__()\n",
    "        self.hidden_dim = hidden_dim\n",
    "        self.n_layers = n_layers\n",
    "\n",
    "        self.lstm = nn.LSTM(in_dim, hidden_dim, n_layers, batch_first=True)\n",
    "        self.fc1 = nn.Linear(hidden_dim, out_dim)\n",
    "    \n",
    "    def forward(self, x):\n",
    "        x, h = self.lstm(x.view(len(x),1,-1))\n",
    "        x = self.fc1(x)\n",
    "        return F.tanh(x)"
   ]
  },
  {
   "cell_type": "code",
   "execution_count": 7,
   "metadata": {},
   "outputs": [],
   "source": [
    "def train(n='cp'):\n",
    "    losses_a = []\n",
    "    losses_b = []\n",
    "\n",
    "    # cuz floats take a lot of space we have to train the two models separately rather than concurrently to save vram\n",
    "\n",
    "    model_a = LSTM(SEQ_LEN, HIDDEN_DIM, N_LAYERS, OUT_DIM).cuda()\n",
    "    optimizer_a = optim.Adam(model_a.parameters(), lr=LR)\n",
    "\n",
    "    loss_fn_a = nn.MSELoss()\n",
    "    loss_fn_b = nn.MSELoss()\n",
    "\n",
    "    for epoch in range(EPOCHS):\n",
    "        for i in tqdm(  range(  int((len(a)-SEQ_LEN)/OUT_DIM)  )  ):\n",
    "            Xa = a[i*OUT_DIM : i*OUT_DIM + SEQ_LEN]\n",
    "            Ya = a[i*OUT_DIM+SEQ_LEN : (i+1)*OUT_DIM + SEQ_LEN]\n",
    "\n",
    "            Xa = torch.tensor(Xa).cuda().float()\n",
    "            Ya = torch.tensor(Ya).cuda().float()\n",
    "\n",
    "            Xa = Xa.view(-1, SEQ_LEN)\n",
    "\n",
    "            out_a = model_a(Xa)\n",
    "            loss_a = loss_fn_a(out_a, Ya)\n",
    "\n",
    "            model_a.zero_grad()\n",
    "            loss_a.backward()\n",
    "            optimizer_a.step()\n",
    "            losses_a.append(loss_a.item())\n",
    "            \n",
    "            if i%1000==0:\n",
    "                torch.save(model_a.state_dict(), f'models/hans_zimmer/checkpoints/{n}_a.pt')\n",
    "\n",
    "    torch.save(model_a.state_dict(), f'models/hans_zimmer/{n}_a.pt')\n",
    "    del model_a, optimizer_a, loss_fn_a, Xa, Ya, loss_a, out_a\n",
    "    torch.cuda.empty_cache()\n",
    "    \n",
    "    # ******** b *********\n",
    "\n",
    "    model_b = LSTM(SEQ_LEN, HIDDEN_DIM, N_LAYERS, OUT_DIM).cuda()\n",
    "    optimizer_b = optim.Adam(model_b.parameters(), lr=LR)\n",
    "\n",
    "    for epoch in range(EPOCHS):\n",
    "        for i in tqdm(  range(  int((len(a)-SEQ_LEN)/OUT_DIM)  )  ):\n",
    "            Xb = b[i*OUT_DIM : i*OUT_DIM + SEQ_LEN]\n",
    "            Yb = b[i*OUT_DIM+SEQ_LEN : (i+1)*OUT_DIM + SEQ_LEN]\n",
    "\n",
    "            Xb = torch.tensor(Xb).cuda().float()\n",
    "            Yb = torch.tensor(Yb).cuda().float()\n",
    "\n",
    "            Xb = Xb.view(-1, SEQ_LEN)\n",
    "\n",
    "            out_b = model_b(Xb)\n",
    "            loss_b = loss_fn_b(out_b, Yb)\n",
    "\n",
    "            del Xb, Yb\n",
    "\n",
    "            model_b.zero_grad()\n",
    "            loss_b.backward()\n",
    "            optimizer_b.step()\n",
    "            losses_b.append(loss_b)\n",
    "\n",
    "            if i%1000==0:\n",
    "                torch.save(model_b.state_dict(), f'models/hans_zimmer/checkpoints/{n}_b.pt')\n",
    "    torch.save(model_b.state_dict(), f'models/hans_zimmer/{n}_b.pt')\n",
    "    del model_b, optimizer_b, loss_fn_b, Xb, Yb, loss_b, out_b\n",
    "    torch.cuda.empty_cache()\n",
    "\n",
    "    plt.plot(losses_a)\n",
    "    plt.plot(losses_b)\n",
    "    plt.show()"
   ]
  },
  {
   "cell_type": "code",
   "execution_count": 8,
   "metadata": {},
   "outputs": [],
   "source": [
    "def load(n):\n",
    "    model_a = LSTM(SEQ_LEN, HIDDEN_DIM, N_LAYERS, OUT_DIM).cuda()\n",
    "    model_b = LSTM(SEQ_LEN, HIDDEN_DIM, N_LAYERS, OUT_DIM).cuda()\n",
    "    model_a.load_state_dict(torch.load(f'models/hans_zimmer/{n}_a.pt'))\n",
    "    model_b.load_state_dict(torch.load(f'models/hans_zimmer/{n}_b.pt'))\n",
    "\n",
    "    return model_a, model_b\n",
    "\n",
    "# this should be deprecated cuz train() will save after training\n",
    "def save(n):\n",
    "    torch.save(model_a.state_dict(), f'models/hans_zimmer/{n}_a.pt')\n",
    "    torch.save(model_b.state_dict(), f'models/hans_zimmer/{n}_b.pt')"
   ]
  },
  {
   "cell_type": "code",
   "execution_count": 9,
   "metadata": {},
   "outputs": [],
   "source": [
    "def predict(n):\n",
    "    pred_a = np.array([])\n",
    "    pred_b = np.array([])\n",
    "\n",
    "    for i in tqdm(  range(  int((len(a)-SEQ_LEN)/OUT_DIM)  )  ):\n",
    "        Xa = a[i*OUT_DIM : i*OUT_DIM + SEQ_LEN]\n",
    "        Xb = b[i*OUT_DIM : i*OUT_DIM + SEQ_LEN]\n",
    "\n",
    "        Xa = torch.tensor(Xa).cuda().float()\n",
    "        Xb = torch.tensor(Xb).cuda().float()\n",
    "        \n",
    "        Xa = Xa.view(-1, SEQ_LEN)\n",
    "        Xb = Xb.view(-1, SEQ_LEN)\n",
    "\n",
    "        out_a = model_a(Xa).squeeze().cpu()\n",
    "        out_b = model_b(Xb).squeeze().cpu()\n",
    "\n",
    "        out_a = out_a.detach().numpy()\n",
    "        out_b = out_b.detach().numpy()\n",
    "\n",
    "        pred_a = np.concatenate((pred_a, out_a))\n",
    "        pred_b = np.concatenate((pred_b, out_b))\n",
    "\n",
    "    song = np.stack((pred_a, pred_b))\n",
    "    wav.write(f'data/hans_zimmer/{n}.wav', sample_rate, song.T)"
   ]
  },
  {
   "cell_type": "code",
   "execution_count": 10,
   "metadata": {},
   "outputs": [],
   "source": [
    "def generate(length, n):\n",
    "    # im not creative so im just calling the generated sequences A and B\n",
    "    A = a[:SEQ_LEN]\n",
    "    B = b[:SEQ_LEN]\n",
    "\n",
    "    for i in tqdm(range(int((length-SEQ_LEN)/OUT_DIM))):\n",
    "        Xa = A[-SEQ_LEN:]\n",
    "        Xb = B[-SEQ_LEN:]\n",
    "\n",
    "        Xa = torch.tensor(Xa).cuda().float().view(-1, SEQ_LEN)\n",
    "        Xb = torch.tensor(Xb).cuda().float().view(-1, SEQ_LEN)\n",
    "\n",
    "        out_a = model_a(Xa).squeeze().cpu()\n",
    "        out_b = model_a(Xb).squeeze().cpu()\n",
    "\n",
    "        out_a = out_a.detach().numpy()\n",
    "        out_b = out_b.detach().numpy()\n",
    "\n",
    "        A = np.concatenate((A, out_a))\n",
    "        B = np.concatenate((B, out_b))\n",
    "\n",
    "    song = np.stack((A, B))\n",
    "\n",
    "    wav.write(f'data/hans_zimmer/{n}.wav', sample_rate, song.T)"
   ]
  },
  {
   "cell_type": "code",
   "execution_count": 11,
   "metadata": {},
   "outputs": [
    {
     "output_type": "stream",
     "name": "stderr",
     "text": [
      "100%|██████████| 36000/36000 [51:09<00:00, 11.73it/s]\n",
      "100%|██████████| 36000/36000 [7:41:00<00:00,  1.30it/s]\n",
      "100%|██████████| 36000/36000 [48:09<00:00, 12.46it/s]\n",
      "100%|██████████| 36000/36000 [43:01<00:00, 13.95it/s]\n",
      "100%|██████████| 36000/36000 [39:57<00:00, 15.01it/s]\n",
      "100%|██████████| 36000/36000 [39:57<00:00, 15.02it/s]\n",
      "100%|██████████| 36000/36000 [39:57<00:00, 15.02it/s]\n",
      "100%|██████████| 36000/36000 [39:57<00:00, 15.02it/s]\n"
     ]
    },
    {
     "output_type": "error",
     "ename": "UnboundLocalError",
     "evalue": "local variable 'Xb' referenced before assignment",
     "traceback": [
      "\u001b[1;31m---------------------------------------------------------------------------\u001b[0m",
      "\u001b[1;31mUnboundLocalError\u001b[0m                         Traceback (most recent call last)",
      "\u001b[1;32m<ipython-input-11-b785d3d90f5f>\u001b[0m in \u001b[0;36m<module>\u001b[1;34m\u001b[0m\n\u001b[1;32m----> 1\u001b[1;33m \u001b[0mtrain\u001b[0m\u001b[1;33m(\u001b[0m\u001b[1;34m'schlong'\u001b[0m\u001b[1;33m)\u001b[0m\u001b[1;33m\u001b[0m\u001b[1;33m\u001b[0m\u001b[0m\n\u001b[0m",
      "\u001b[1;32m<ipython-input-7-222275f62cba>\u001b[0m in \u001b[0;36mtrain\u001b[1;34m(n)\u001b[0m\n\u001b[0;32m     64\u001b[0m                 \u001b[0mtorch\u001b[0m\u001b[1;33m.\u001b[0m\u001b[0msave\u001b[0m\u001b[1;33m(\u001b[0m\u001b[0mmodel_b\u001b[0m\u001b[1;33m.\u001b[0m\u001b[0mstate_dict\u001b[0m\u001b[1;33m(\u001b[0m\u001b[1;33m)\u001b[0m\u001b[1;33m,\u001b[0m \u001b[1;34mf'models/hans_zimmer/checkpoints/{n}_b.pt'\u001b[0m\u001b[1;33m)\u001b[0m\u001b[1;33m\u001b[0m\u001b[1;33m\u001b[0m\u001b[0m\n\u001b[0;32m     65\u001b[0m     \u001b[0mtorch\u001b[0m\u001b[1;33m.\u001b[0m\u001b[0msave\u001b[0m\u001b[1;33m(\u001b[0m\u001b[0mmodel_b\u001b[0m\u001b[1;33m.\u001b[0m\u001b[0mstate_dict\u001b[0m\u001b[1;33m(\u001b[0m\u001b[1;33m)\u001b[0m\u001b[1;33m,\u001b[0m \u001b[1;34mf'models/hans_zimmer/{n}_b.pt'\u001b[0m\u001b[1;33m)\u001b[0m\u001b[1;33m\u001b[0m\u001b[1;33m\u001b[0m\u001b[0m\n\u001b[1;32m---> 66\u001b[1;33m     \u001b[1;32mdel\u001b[0m \u001b[0mmodel_b\u001b[0m\u001b[1;33m,\u001b[0m \u001b[0moptimizer_b\u001b[0m\u001b[1;33m,\u001b[0m \u001b[0mloss_fn_b\u001b[0m\u001b[1;33m,\u001b[0m \u001b[0mXb\u001b[0m\u001b[1;33m,\u001b[0m \u001b[0mYb\u001b[0m\u001b[1;33m,\u001b[0m \u001b[0mloss_b\u001b[0m\u001b[1;33m,\u001b[0m \u001b[0mout_b\u001b[0m\u001b[1;33m\u001b[0m\u001b[1;33m\u001b[0m\u001b[0m\n\u001b[0m\u001b[0;32m     67\u001b[0m     \u001b[0mtorch\u001b[0m\u001b[1;33m.\u001b[0m\u001b[0mcuda\u001b[0m\u001b[1;33m.\u001b[0m\u001b[0mempty_cache\u001b[0m\u001b[1;33m(\u001b[0m\u001b[1;33m)\u001b[0m\u001b[1;33m\u001b[0m\u001b[1;33m\u001b[0m\u001b[0m\n\u001b[0;32m     68\u001b[0m \u001b[1;33m\u001b[0m\u001b[0m\n",
      "\u001b[1;31mUnboundLocalError\u001b[0m: local variable 'Xb' referenced before assignment"
     ]
    }
   ],
   "source": [
    "train('schlong')"
   ]
  },
  {
   "cell_type": "code",
   "execution_count": 12,
   "metadata": {},
   "outputs": [],
   "source": [
    "model_a, model_b = load('schlong')"
   ]
  },
  {
   "cell_type": "code",
   "execution_count": 13,
   "metadata": {},
   "outputs": [
    {
     "output_type": "stream",
     "name": "stderr",
     "text": [
      "100%|██████████| 36000/36000 [03:40<00:00, 163.12it/s]\n"
     ]
    }
   ],
   "source": [
    "predict('schlong')"
   ]
  },
  {
   "cell_type": "code",
   "execution_count": 15,
   "metadata": {},
   "outputs": [
    {
     "output_type": "stream",
     "name": "stderr",
     "text": [
      "100%|██████████| 16000/16000 [01:36<00:00, 166.39it/s]\n"
     ]
    }
   ],
   "source": [
    "generate(40000, 'schlong_gen')"
   ]
  },
  {
   "source": [
    "doesn't exactly sound great but will do for now "
   ],
   "cell_type": "markdown",
   "metadata": {}
  }
 ]
}
